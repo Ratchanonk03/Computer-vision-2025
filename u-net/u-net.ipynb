{
 "cells": [
  {
   "cell_type": "code",
   "execution_count": 565,
   "id": "806811c8",
   "metadata": {},
   "outputs": [],
   "source": [
    "import pandas\n",
    "import numpy as np\n",
    "import os\n",
    "import shutil\n",
    "from pathlib import Path\n",
    "import json\n",
    "import math\n",
    "from PIL import Image, ImageDraw\n",
    "import glob\n",
    "\n",
    "import torch\n",
    "import segmentation_models_pytorch as smp\n",
    "import cv2\n",
    "import torch\n",
    "from torch.utils.data import Dataset, DataLoader\n",
    "import albumentations as A\n",
    "from albumentations.pytorch import ToTensorV2\n",
    "from sklearn.model_selection import train_test_split\n",
    "from segmentation_models_pytorch.metrics.functional import iou_score, get_stats\n"
   ]
  },
  {
   "cell_type": "code",
   "execution_count": 566,
   "id": "b437d01f",
   "metadata": {},
   "outputs": [
    {
     "name": "stdout",
     "output_type": "stream",
     "text": [
      "Using device: mps\n"
     ]
    }
   ],
   "source": [
    "device = torch.device(\"mps\" if torch.backends.mps.is_available() else\n",
    "                      \"cuda\" if torch.cuda.is_available() else \"cpu\")\n",
    "\n",
    "print(f\"Using device: {device}\")    "
   ]
  },
  {
   "cell_type": "code",
   "execution_count": 567,
   "id": "6cec32ee",
   "metadata": {},
   "outputs": [],
   "source": [
    "SEED = 1"
   ]
  },
  {
   "cell_type": "code",
   "execution_count": 568,
   "id": "15eed64d",
   "metadata": {},
   "outputs": [],
   "source": [
    "class SegDataset(Dataset):\n",
    "    def __init__(self, image_paths, mask_paths, transform=None, multiclass=False):\n",
    "        self.image_paths = list(image_paths)\n",
    "        self.mask_paths  = list(mask_paths)\n",
    "        self.transform = transform\n",
    "        self.multiclass = multiclass\n",
    "\n",
    "    def __len__(self): return len(self.image_paths)\n",
    "\n",
    "    def __getitem__(self, i):\n",
    "        image = str(self.image_paths[i])\n",
    "        mask = str(self.mask_paths[i])\n",
    "\n",
    "        image = cv2.imread(image)\n",
    "        if image is None:\n",
    "            raise RuntimeError(f\"cv2.imread failed for image: {image}\")\n",
    "        image = cv2.cvtColor(image, cv2.COLOR_BGR2RGB)\n",
    "\n",
    "        mask = cv2.imread(mask, cv2.IMREAD_GRAYSCALE)\n",
    "        if mask is None:\n",
    "            raise RuntimeError(f\"cv2.imread failed for mask: {mask}\")\n",
    "\n",
    "        if self.transform:\n",
    "            try:\n",
    "                out = self.transform(image=image, mask=mask)\n",
    "            except Exception as e:\n",
    "                raise RuntimeError(f\"Augment failed for\\n image: {image}\\n mask: {mask}\\n error: {e}\")\n",
    "            image, mask = out[\"image\"], out[\"mask\"]\n",
    "\n",
    "        mask = torch.as_tensor(mask)\n",
    "        mask = mask.long() if self.multiclass else mask.float()\n",
    "        mask = (mask / 255.0).unsqueeze(0)  # to [0,1] and add channel dim\n",
    "        return image, mask"
   ]
  },
  {
   "cell_type": "code",
   "execution_count": 569,
   "id": "cf114329",
   "metadata": {},
   "outputs": [
    {
     "data": {
      "text/plain": [
       "PosixPath('/Users/ratchanonkhongsawi/Desktop/CMKL/3rd/Computer Vision/project/Computer-vision-2025/u-net/models')"
      ]
     },
     "execution_count": 569,
     "metadata": {},
     "output_type": "execute_result"
    }
   ],
   "source": [
    "Path().cwd() / \"models\""
   ]
  },
  {
   "cell_type": "code",
   "execution_count": 570,
   "id": "144a7040",
   "metadata": {},
   "outputs": [
    {
     "name": "stdout",
     "output_type": "stream",
     "text": [
      "Data directory: /Users/ratchanonkhongsawi/Desktop/CMKL/3rd/Computer Vision/project/Computer-vision-2025/dataset\n",
      "Images directory: /Users/ratchanonkhongsawi/Desktop/CMKL/3rd/Computer Vision/project/Computer-vision-2025/dataset/images\n",
      "Labels directory: /Users/ratchanonkhongsawi/Desktop/CMKL/3rd/Computer Vision/project/Computer-vision-2025/dataset/labels\n",
      "Masks directory: /Users/ratchanonkhongsawi/Desktop/CMKL/3rd/Computer Vision/project/Computer-vision-2025/dataset/masks\n",
      "Models directory: /Users/ratchanonkhongsawi/Desktop/CMKL/3rd/Computer Vision/project/Computer-vision-2025/u-net/models\n"
     ]
    }
   ],
   "source": [
    "data_dir = Path().cwd().parent / \"dataset\"\n",
    "if not data_dir.exists():\n",
    "    raise FileNotFoundError(f\"Data directory {data_dir} does not exist.\")\n",
    "\n",
    "images_dir = data_dir / \"images\"\n",
    "if not images_dir.exists():\n",
    "    raise FileNotFoundError(f\"Images directory {images_dir} does not exist.\")\n",
    "labels_dir = data_dir / \"labels\"\n",
    "if not labels_dir.exists():\n",
    "    raise FileNotFoundError(f\"Labels directory {labels_dir} does not exist.\")\n",
    "masks_dir = data_dir / \"masks\"\n",
    "if not masks_dir.exists():\n",
    "    raise FileNotFoundError(f\"Masks directory {masks_dir} does not exist.\")\n",
    "\n",
    "models_dir = Path().cwd() / \"models\"\n",
    "if not models_dir.exists():\n",
    "    models_dir.mkdir(exist_ok=True)\n",
    "\n",
    "print(f\"Data directory: {data_dir}\")\n",
    "print(f\"Images directory: {images_dir}\")\n",
    "print(f\"Labels directory: {labels_dir}\")\n",
    "print(f\"Masks directory: {masks_dir}\")\n",
    "print(f\"Models directory: {models_dir}\")"
   ]
  },
  {
   "cell_type": "code",
   "execution_count": 571,
   "id": "6d8bca26",
   "metadata": {},
   "outputs": [
    {
     "name": "stdout",
     "output_type": "stream",
     "text": [
      "Found labels: {'Nerve', 'nerve'}\n"
     ]
    }
   ],
   "source": [
    "all_labels = set()\n",
    "\n",
    "for jp in labels_dir.glob(\"*.json\"):\n",
    "    with open(jp, \"r\") as f:\n",
    "        anno = json.load(f)\n",
    "    for shape in anno.get(\"shapes\", []):\n",
    "        lbl = shape.get(\"label\", \"\")\n",
    "        all_labels.add(lbl)\n",
    "\n",
    "print(\"Found labels:\", all_labels)"
   ]
  },
  {
   "cell_type": "code",
   "execution_count": 572,
   "id": "4c24cd11",
   "metadata": {},
   "outputs": [],
   "source": [
    "CLASS_MAP = {\"background\": 0, \"nerve\": 1}"
   ]
  },
  {
   "cell_type": "code",
   "execution_count": 573,
   "id": "273224b4",
   "metadata": {},
   "outputs": [
    {
     "name": "stdout",
     "output_type": "stream",
     "text": [
      "✅ All images and masks have the same size: (648, 864)\n"
     ]
    }
   ],
   "source": [
    "image_shapes = []\n",
    "mask_shapes = []\n",
    "\n",
    "for image in (images_dir.glob(\"*.png\")):\n",
    "    img = np.array(Image.open(image))\n",
    "    image_shapes.append(img.shape[:2])  # (h, w)\n",
    "\n",
    "for mask in masks_dir.glob(\"*.png\"):\n",
    "    m = np.array(Image.open(mask))\n",
    "    mask_shapes.append(m.shape[:2])  # (h, w)\n",
    "\n",
    "# check consistency\n",
    "unique_image_shapes = set(image_shapes)\n",
    "unique_mask_shapes = set(mask_shapes)\n",
    "\n",
    "if len(unique_image_shapes) > 1:\n",
    "    print(\"⚠️ Not all images have the same size:\", unique_image_shapes)\n",
    "\n",
    "if len(unique_mask_shapes) > 1:\n",
    "    print(\"⚠️ Not all masks have the same size:\", unique_mask_shapes)\n",
    "\n",
    "if unique_image_shapes != unique_mask_shapes:\n",
    "    print(\"⚠️ Image and mask sizes differ.\")\n",
    "else:\n",
    "    print(\"✅ All images and masks have the same size:\", unique_image_shapes.pop())"
   ]
  },
  {
   "cell_type": "code",
   "execution_count": null,
   "id": "bcc1e0a1",
   "metadata": {},
   "outputs": [
    {
     "name": "stdout",
     "output_type": "stream",
     "text": [
      "Found 300 matched pairs.\n",
      "🟥 0 images without masks:\n",
      "🟧 0 masks without images:\n"
     ]
    }
   ],
   "source": [
    "img_set  = sorted(images_dir.glob(\"*.png\"))\n",
    "mask_set = sorted(masks_dir.glob(\"*.png\"))\n",
    "\n",
    "# build dictionary: {\"1\": Path(\"masks/1.png\"), \"2\": Path(\"masks/2.png\"), ...}\n",
    "mask_dict = {m.stem: m for m in mask_set}\n",
    "\n",
    "# pair image with its mask if stem matches\n",
    "pairs = [(p, mask_dict[p.stem]) for p in img_set if p.stem in mask_dict]\n",
    "\n",
    "print(f\"Found {len(pairs)} matched pairs.\")\n",
    "img_stems  = {p.stem for p in images_dir.glob(\"*.png\")}\n",
    "mask_stems = {p.stem for p in masks_dir.glob(\"*.png\")}\n",
    "\n",
    "# Images without masks\n",
    "missing_masks = img_stems - mask_stems\n",
    "print(f\"X {len(missing_masks)} images without masks:\")\n",
    "for s in sorted(missing_masks):\n",
    "    print(\" -\", s)\n",
    "    \n",
    "missing_images = mask_stems - img_stems\n",
    "print(f\"X {len(missing_images)} masks without images:\")\n",
    "for s in sorted(missing_images):\n",
    "    print(\" -\", s)\n",
    "    \n"
   ]
  },
  {
   "cell_type": "code",
   "execution_count": null,
   "id": "c4324482",
   "metadata": {},
   "outputs": [
    {
     "name": "stdout",
     "output_type": "stream",
     "text": [
      "210 45 45\n"
     ]
    }
   ],
   "source": [
    "imgs, masks = zip(*pairs)  # unzip into two lists\n",
    "\n",
    "train_imgs, valtest_imgs, train_masks, valtest_masks = train_test_split(\n",
    "    imgs, masks, test_size=0.3, random_state=SEED, shuffle=True\n",
    ")\n",
    "val_imgs, test_imgs, val_masks, test_masks = train_test_split(\n",
    "    valtest_imgs, valtest_masks, test_size=0.5, random_state=SEED, shuffle=True\n",
    ")\n",
    "\n",
    "print(f\"train images:{len(train_imgs)} \\n val images:{len(val_imgs)} \\n test images:{len(test_imgs)}\")"
   ]
  },
  {
   "cell_type": "code",
   "execution_count": 576,
   "id": "a7c49d41",
   "metadata": {},
   "outputs": [],
   "source": [
    "pad_to_32 = A.PadIfNeeded(\n",
    "    min_height=None, min_width=None,\n",
    "    pad_height_divisor=32, pad_width_divisor=32,\n",
    "    border_mode=cv2.BORDER_CONSTANT,\n",
    "    fill=0,        # fill value for images\n",
    "    position='center'\n",
    ")\n",
    "\n",
    "train_transform = A.Compose([\n",
    "    pad_to_32,\n",
    "    A.HorizontalFlip(p=0.5),\n",
    "    A.RandomBrightnessContrast(p=0.2),\n",
    "    A.Normalize(mean=(0.485, 0.456, 0.406),\n",
    "                std=(0.229, 0.224, 0.225)),\n",
    "    ToTensorV2()\n",
    "])\n",
    "\n",
    "eval_transform = A.Compose([\n",
    "    pad_to_32,\n",
    "    A.Normalize(mean=(0.485, 0.456, 0.406),\n",
    "                std=(0.229, 0.224, 0.225)),\n",
    "    ToTensorV2()\n",
    "])"
   ]
  },
  {
   "cell_type": "code",
   "execution_count": 577,
   "id": "15752f0b",
   "metadata": {},
   "outputs": [],
   "source": [
    "train_ds = SegDataset(train_imgs, train_masks, transform=train_transform, multiclass=False)  # set True if >1 class\n",
    "val_ds   = SegDataset(val_imgs,   val_masks,   transform=eval_transform,  multiclass=False)\n",
    "test_ds  = SegDataset(test_imgs,  test_masks,  transform=eval_transform,  multiclass=False)\n",
    "\n",
    "train_loader = DataLoader(train_ds, batch_size=1, shuffle=True,  num_workers=0, pin_memory=True)\n",
    "val_loader   = DataLoader(val_ds,   batch_size=1, shuffle=False, num_workers=0, pin_memory=True)\n",
    "test_loader  = DataLoader(test_ds,  batch_size=1, shuffle=False, num_workers=0, pin_memory=True)"
   ]
  },
  {
   "cell_type": "code",
   "execution_count": 602,
   "id": "05805e9a",
   "metadata": {},
   "outputs": [
    {
     "name": "stdout",
     "output_type": "stream",
     "text": [
      "Processed image range: -2.118 to 2.640\n",
      "Processed image shape: torch.Size([3, 672, 864])\n",
      "Processed image dtype: torch.float32\n",
      "\n",
      "Processed mask range: 0.000 to 1.000\n",
      "Processed mask shape: torch.Size([1, 672, 864])\n",
      "Processed mask dtype: torch.float32\n"
     ]
    }
   ],
   "source": [
    "sample_image, sample_mask = train_ds[0]  # Get processed sample\n",
    "print(f\"Processed image range: {sample_image.min():.3f} to {sample_image.max():.3f}\")\n",
    "print(f\"Processed image shape: {sample_image.shape}\")\n",
    "print(f\"Processed image dtype: {sample_image.dtype}\")\n",
    "print()\n",
    "print(f\"Processed mask range: {sample_mask.min():.3f} to {sample_mask.max():.3f}\")\n",
    "print(f\"Processed mask shape: {sample_mask.shape}\")\n",
    "print(f\"Processed mask dtype: {sample_mask.dtype}\")"
   ]
  },
  {
   "cell_type": "code",
   "execution_count": 579,
   "id": "a277a7b4",
   "metadata": {},
   "outputs": [
    {
     "name": "stdout",
     "output_type": "stream",
     "text": [
      "Shapes: torch.Size([1, 3, 672, 864]) torch.Size([1, 1, 672, 864])\n",
      "Divisible by 32: True True\n",
      "Mask uniques (sample): tensor([0., 1.])\n"
     ]
    }
   ],
   "source": [
    "imgs, masks = next(iter(train_loader))\n",
    "print(\"Shapes:\", imgs.shape, masks.shape)  # [B,3,H,W], [B,H,W]\n",
    "H, W = imgs.shape[-2], imgs.shape[-1]\n",
    "print(\"Divisible by 32:\", H % 32 == 0, W % 32 == 0)\n",
    "print(\"Mask uniques (sample):\", masks[0].unique()[:10])"
   ]
  },
  {
   "cell_type": "code",
   "execution_count": 580,
   "id": "8a2b9fb7",
   "metadata": {},
   "outputs": [],
   "source": [
    "# pick cache dirs inside your project (or anywhere you own)\n",
    "hf_cache   = Path(\"./.cache/hf\").resolve()\n",
    "torch_cache= Path(\"./.cache/torch\").resolve()\n",
    "hf_cache.mkdir(parents=True, exist_ok=True)\n",
    "torch_cache.mkdir(parents=True, exist_ok=True)\n",
    "\n",
    "os.environ[\"HF_HOME\"]   = str(hf_cache)     # for huggingface_hub\n",
    "os.environ[\"TORCH_HOME\"] = str(torch_cache) # for torch.hub"
   ]
  },
  {
   "cell_type": "code",
   "execution_count": 581,
   "id": "31b89923",
   "metadata": {},
   "outputs": [],
   "source": [
    "def batch_iou(logits: torch.Tensor, targets: torch.Tensor, thr: float = 0.5) -> torch.Tensor:\n",
    "    with torch.no_grad():\n",
    "        # logits: [B, 1, H, W]\n",
    "        preds = (torch.sigmoid(logits) > thr)\n",
    "        if preds.shape[1] == 1:\n",
    "            preds = preds[:, 0]  # [B, H, W]\n",
    "        preds = preds.to(torch.long)\n",
    "\n",
    "        # targets should now be [B, 1, H, W] with values {0,1}\n",
    "        if targets.dim() == 4 and targets.shape[1] == 1:\n",
    "            targets = targets[:, 0]  # [B, H, W]\n",
    "        targets = targets.to(torch.long)  # Already {0,1}\n",
    "\n",
    "        tp, fp, fn, tn = get_stats(preds, targets, mode=\"binary\", threshold=None)\n",
    "        return iou_score(tp, fp, fn, tn, reduction=\"micro\")"
   ]
  },
  {
   "cell_type": "code",
   "execution_count": 582,
   "id": "68ce4f05",
   "metadata": {},
   "outputs": [
    {
     "name": "stderr",
     "output_type": "stream",
     "text": [
      "/Users/ratchanonkhongsawi/anaconda3/envs/monai_env/lib/python3.10/site-packages/segmentation_models_pytorch/encoders/__init__.py:136: UserWarning: Error loading resnet34 `imagenet` weights from Hugging Face Hub, trying loading from original url...\n",
      "  warnings.warn(message, UserWarning)\n"
     ]
    }
   ],
   "source": [
    "model = smp.Linknet(encoder_name=\"resnet34\", encoder_weights=\"imagenet\",in_channels=3, classes=1).to(device)\n",
    "\n",
    "# Binary losses/metrics\n",
    "loss_fn = smp.losses.DiceLoss(mode=\"binary\")   # or nn.BCEWithLogitsLoss()\n",
    "optimizer = torch.optim.Adam(model.parameters(), lr=1e-3)"
   ]
  },
  {
   "cell_type": "code",
   "execution_count": 583,
   "id": "b8f1a4c7",
   "metadata": {},
   "outputs": [
    {
     "name": "stdout",
     "output_type": "stream",
     "text": [
      "Positive class ratio: 0.0068\n"
     ]
    }
   ],
   "source": [
    "positive_pixels = (masks > 0).sum()\n",
    "total_pixels = masks.numel()\n",
    "positive_ratio = positive_pixels / total_pixels\n",
    "print(f\"Positive class ratio: {positive_ratio:.4f}\")"
   ]
  },
  {
   "cell_type": "code",
   "execution_count": 587,
   "id": "06806584",
   "metadata": {},
   "outputs": [
    {
     "name": "stdout",
     "output_type": "stream",
     "text": [
      "Epoch 01 | train loss 0.8749 IoU 0.131 | val loss 0.9789 IoU 0.011\n",
      "Epoch 02 | train loss 0.6189 IoU 0.288 | val loss 0.8554 IoU 0.083\n",
      "Epoch 03 | train loss 0.5254 IoU 0.351 | val loss 0.8627 IoU 0.101\n",
      "Epoch 04 | train loss 0.4559 IoU 0.409 | val loss 0.7764 IoU 0.139\n",
      "Epoch 05 | train loss 0.4416 IoU 0.429 | val loss 0.7601 IoU 0.178\n",
      "Epoch 06 | train loss 0.4178 IoU 0.452 | val loss 0.5788 IoU 0.306\n",
      "Epoch 07 | train loss 0.4670 IoU 0.408 | val loss 0.8390 IoU 0.118\n",
      "Epoch 08 | train loss 0.4346 IoU 0.434 | val loss 0.7662 IoU 0.184\n",
      "Epoch 09 | train loss 0.3745 IoU 0.490 | val loss 0.7042 IoU 0.224\n",
      "Epoch 10 | train loss 0.3833 IoU 0.480 | val loss 0.6518 IoU 0.250\n",
      "Epoch 11 | train loss 0.3716 IoU 0.494 | val loss 0.7278 IoU 0.202\n",
      "Epoch 12 | train loss 0.4148 IoU 0.456 | val loss 0.6971 IoU 0.229\n",
      "Epoch 13 | train loss 0.4087 IoU 0.461 | val loss 0.6408 IoU 0.275\n",
      "Epoch 14 | train loss 0.3336 IoU 0.524 | val loss 0.7951 IoU 0.149\n",
      "Epoch 15 | train loss 0.3224 IoU 0.536 | val loss 0.5370 IoU 0.354\n",
      "Epoch 16 | train loss 0.3262 IoU 0.534 | val loss 0.8767 IoU 0.068\n",
      "Epoch 17 | train loss 0.3635 IoU 0.504 | val loss 0.6602 IoU 0.234\n",
      "Epoch 18 | train loss 0.4405 IoU 0.413 | val loss 0.8246 IoU 0.129\n",
      "Epoch 19 | train loss 0.3708 IoU 0.491 | val loss 0.5785 IoU 0.326\n",
      "Epoch 20 | train loss 0.3371 IoU 0.523 | val loss 0.4591 IoU 0.414\n"
     ]
    }
   ],
   "source": [
    "def run_epoch(loader, train=True, loss_fn=loss_fn, optimizer=optimizer):\n",
    "    if train:\n",
    "        model.train()\n",
    "    else:\n",
    "        model.eval()\n",
    "\n",
    "    tot_loss, tot_iou, n = 0.0, 0.0, 0\n",
    "    for imgs, masks in loader:\n",
    "        imgs, masks = imgs.to(device), masks.to(device)\n",
    "        if train:\n",
    "            optimizer.zero_grad()\n",
    "\n",
    "        logits = model(imgs)\n",
    "        loss   = loss_fn(logits, masks)\n",
    "        iou    = batch_iou(logits, masks)\n",
    "\n",
    "        if train:\n",
    "            loss.backward()\n",
    "            optimizer.step()\n",
    "\n",
    "        bs = imgs.size(0)\n",
    "        tot_loss += loss.item() * bs\n",
    "        tot_iou  += iou.item()  * bs\n",
    "        n += bs\n",
    "\n",
    "    return tot_loss / n, tot_iou / n\n",
    "\n",
    "best_val = float(\"inf\")\n",
    "for epoch in range(1, 21):\n",
    "    tr_loss, tr_iou = run_epoch(train_loader, train=True)\n",
    "    va_loss, va_iou = run_epoch(val_loader,   train=False)\n",
    "    print(f\"Epoch {epoch:02d} | train loss {tr_loss:.4f} IoU {tr_iou:.3f} | val loss {va_loss:.4f} IoU {va_iou:.3f}\")\n",
    "\n",
    "    # simple checkpoint on best val loss\n",
    "    if va_loss < best_val:\n",
    "        best_val = va_loss\n",
    "        torch.save(model.state_dict(), \"linknet_best.pt\")"
   ]
  },
  {
   "cell_type": "code",
   "execution_count": 588,
   "id": "41dc000d",
   "metadata": {},
   "outputs": [
    {
     "name": "stdout",
     "output_type": "stream",
     "text": [
      "TEST | loss 0.4642 IoU 0.401\n"
     ]
    }
   ],
   "source": [
    "# load best and evaluate on test set\n",
    "model.load_state_dict(torch.load(\"linknet_best.pt\", map_location=device))\n",
    "te_loss, te_iou = run_epoch(test_loader, train=False)\n",
    "print(f\"TEST | loss {te_loss:.4f} IoU {te_iou:.3f}\")"
   ]
  },
  {
   "cell_type": "code",
   "execution_count": 589,
   "id": "2157e293",
   "metadata": {},
   "outputs": [],
   "source": [
    "import numpy as np\n",
    "import torch\n",
    "import torch.nn.functional as F\n",
    "import matplotlib.pyplot as plt\n",
    "\n",
    "def _to_numpy_image(image):\n",
    "    # image: np [H,W,3] or torch [C,H,W]\n",
    "    if isinstance(image, torch.Tensor):\n",
    "        if image.ndim == 3 and image.shape[0] in (1,3):   # [C,H,W] -> [H,W,C]\n",
    "            image = image.detach().cpu().permute(1,2,0).numpy()\n",
    "        else:\n",
    "            image = image.detach().cpu().numpy()\n",
    "    if image.ndim == 2:  # grayscale -> RGB\n",
    "        image = np.stack([image]*3, axis=-1)\n",
    "    # scale to uint8 if needed\n",
    "    if image.dtype != np.uint8:\n",
    "        im = image.astype(np.float32)\n",
    "        if im.max() <= 1.0:\n",
    "            im = im * 255.0\n",
    "        image = np.clip(im, 0, 255).astype(np.uint8)\n",
    "    return image\n",
    "\n",
    "def _to_2d_prob(logits):\n",
    "    # logits: torch or np; returns numpy float32 [H,W] in [0,1]\n",
    "    if isinstance(logits, torch.Tensor):\n",
    "        x = torch.sigmoid(logits.detach().cpu().float())\n",
    "        if x.ndim == 4:         # [B,1,H,W] or [B,H,W] -> take first channel\n",
    "            if x.shape[1] == 1: x = x[:,0]\n",
    "            x = x[0]\n",
    "        elif x.ndim == 3:       # [1,H,W] or [H,W,C]\n",
    "            if x.shape[0] == 1: x = x[0]\n",
    "        # now expect [H,W]\n",
    "        prob = x.numpy()\n",
    "    else:\n",
    "        prob = logits\n",
    "        if prob.ndim == 3 and prob.shape[0] == 1:\n",
    "            prob = prob[0]\n",
    "        # if logits not passed through sigmoid, do it\n",
    "        if prob.max() > 1.0 or prob.min() < 0.0:\n",
    "            prob = 1.0 / (1.0 + np.exp(-prob))\n",
    "    return prob.astype(np.float32)\n",
    "\n",
    "def show_overlay(image, logits, alpha=0.5, thr=0.5, color=(255, 0, 0)):\n",
    "    \"\"\"\n",
    "    image: np [H,W,3] or torch [C,H,W]  (RGB)\n",
    "    logits: torch or np; shapes: [B,1,H,W], [1,H,W], [H,W]\n",
    "    alpha: overlay transparency\n",
    "    thr:   probability threshold for binary mask\n",
    "    color: RGB tuple for mask regions\n",
    "    \"\"\"\n",
    "    image = _to_numpy_image(image)              # [H,W,3] uint8\n",
    "    H, W = image.shape[:2]\n",
    "    prob = _to_2d_prob(logits)                  # [h,w] float32 in [0,1]\n",
    "\n",
    "    # If mask size mismatches, resize with NEAREST (keeps boundaries)\n",
    "    if prob.shape[0] != H or prob.shape[1] != W:\n",
    "        if isinstance(logits, torch.Tensor):\n",
    "            t = torch.from_numpy(prob).unsqueeze(0).unsqueeze(0)  # [1,1,h,w]\n",
    "            t = F.interpolate(t, size=(H, W), mode=\"nearest\")\n",
    "            prob = t[0,0].numpy()\n",
    "        else:\n",
    "            # numpy-only nearest resize (manual, no cv2 needed)\n",
    "            yy = (np.linspace(0, prob.shape[0]-1, H)).round().astype(int)\n",
    "            xx = (np.linspace(0, prob.shape[1]-1, W)).round().astype(int)\n",
    "            prob = prob[yy][:, xx]\n",
    "\n",
    "    mask = (prob > thr).astype(np.uint8)        # [H,W] {0,1}\n",
    "\n",
    "    # Build color overlay and blend (in RGB)\n",
    "    overlay = image.copy().astype(np.float32)\n",
    "    color_arr = np.array(color, dtype=np.float32).reshape(1,1,3)\n",
    "    overlay[mask == 1] = color_arr\n",
    "\n",
    "    blended = (image.astype(np.float32) * (1 - alpha) +\n",
    "               overlay * alpha).astype(np.uint8)\n",
    "\n",
    "    # plot\n",
    "    plt.figure(figsize=(12,4))\n",
    "    plt.subplot(1,3,1); plt.title(\"Original\"); plt.imshow(image); plt.axis(\"off\")\n",
    "    plt.subplot(1,3,2); plt.title(\"Pred Mask\"); plt.imshow(mask, cmap=\"gray\"); plt.axis(\"off\")\n",
    "    plt.subplot(1,3,3); plt.title(\"Overlay\");   plt.imshow(blended); plt.axis(\"off\")\n",
    "    plt.show()"
   ]
  },
  {
   "cell_type": "code",
   "execution_count": 599,
   "id": "a96670c3",
   "metadata": {},
   "outputs": [
    {
     "data": {
      "text/plain": [
       "array([[0, 0, 0],\n",
       "       [0, 0, 0],\n",
       "       [0, 0, 0],\n",
       "       ...,\n",
       "       [0, 0, 0],\n",
       "       [0, 0, 0],\n",
       "       [0, 0, 0]], shape=(864, 3), dtype=uint8)"
      ]
     },
     "execution_count": 599,
     "metadata": {},
     "output_type": "execute_result"
    }
   ],
   "source": [
    "img[1]"
   ]
  },
  {
   "cell_type": "code",
   "execution_count": null,
   "id": "ed7547d7",
   "metadata": {},
   "outputs": [],
   "source": [
    "pred = model.predict(imgs.to(device))"
   ]
  },
  {
   "cell_type": "code",
   "execution_count": 601,
   "id": "c3aa3ab5",
   "metadata": {},
   "outputs": [
    {
     "data": {
      "image/png": "[encoded data removed]",
      "text/plain": [
       "<Figure size 1200x400 with 3 Axes>"
      ]
     },
     "metadata": {},
     "output_type": "display_data"
    }
   ],
   "source": [
    "show_overlay(img, pred, alpha=0.5, thr=0.5)"
   ]
  }
 ],
 "metadata": {
  "kernelspec": {
   "display_name": "monai_env",
   "language": "python",
   "name": "python3"
  },
  "language_info": {
   "codemirror_mode": {
    "name": "ipython",
    "version": 3
   },
   "file_extension": ".py",
   "mimetype": "text/x-python",
   "name": "python",
   "nbconvert_exporter": "python",
   "pygments_lexer": "ipython3",
   "version": "3.10.18"
  }
 },
 "nbformat": 4,
 "nbformat_minor": 5
}
