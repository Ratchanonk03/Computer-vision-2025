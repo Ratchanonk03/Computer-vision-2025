{
 "cells": [
  {
   "cell_type": "code",
   "execution_count": null,
   "id": "9b619a68",
   "metadata": {},
   "outputs": [],
   "source": [
    "import pandas\n",
    "import numpy as np\n",
    "import os\n",
    "import shutil\n",
    "from pathlib import Path\n",
    "import json\n",
    "import math"
   ]
  },
  {
   "cell_type": "code",
   "execution_count": null,
   "id": "bc8ac809",
   "metadata": {},
   "outputs": [],
   "source": [
    "def norm_label(s: str) -> str:\n",
    "    return s.strip().casefold()"
   ]
  },
  {
   "cell_type": "code",
   "execution_count": null,
   "id": "76cbbe32",
   "metadata": {},
   "outputs": [],
   "source": [
    "def labelme_json_to_mask(json_path: Path, image_root: Path, class_map: dict) -> np.ndarray:\n",
    "    with open(json_path, \"r\") as f:\n",
    "        anno = json.load(f)\n",
    "\n",
    "    img_name = anno.get(\"imagePath\", \"\")\n",
    "    print(f\"file={json_path.stem}, image={img_name}\")\n",
    "    W = anno.get(\"imageWidth\"); H = anno.get(\"imageHeight\")\n",
    "    if (W is None or H is None) and img_name:\n",
    "        with Image.open(image_root / img_name) as im:\n",
    "            W, H = im.size\n",
    "    if W is None or H is None:\n",
    "        raise ValueError(f\"Cannot determine size for {json_path}\")\n",
    "    if not (Path(img_name).stem).isdigit():\n",
    "        print(f\"Warning: imagePath is not numeric: {img_name}, file={json_path}\")\n",
    "    mask_img = Image.new(\"L\", (W, H), color=int(class_map.get(\"background\", 0)))\n",
    "    draw = ImageDraw.Draw(mask_img)\n",
    "\n",
    "    for s in anno.get(\"shapes\", []):\n",
    "        label = norm_label(s.get(\"label\", \"\"))\n",
    "        print(f\"Label: {label}\")\n",
    "        cls_id = class_map.get(label)\n",
    "        print(f\"Class ID: {cls_id}\")\n",
    "        if cls_id is None:\n",
    "            continue\n",
    "        pts = [(float(x), float(y)) for x, y in s.get(\"points\", [])]\n",
    "        print(f\"Points: {pts}\")\n",
    "        st = s.get(\"shape_type\", \"polygon\")\n",
    "        if st == \"polygon\" and len(pts) >= 3:\n",
    "            draw.polygon(pts, outline=int(cls_id), fill=int(cls_id))\n",
    "        elif st == \"rectangle\" and len(pts) >= 2:\n",
    "            (x1, y1), (x2, y2) = pts[:2]\n",
    "            draw.rectangle([x1, y1, x2, y2], outline=int(cls_id), fill=int(cls_id))\n",
    "        elif st == \"circle\" and len(pts) >= 2:\n",
    "            (cx, cy), (px, py) = pts[:2]\n",
    "            r = math.hypot(px - cx, py - cy)\n",
    "            draw.ellipse([cx - r, cy - r, cx + r, cy + r], outline=int(cls_id), fill=int(cls_id))\n",
    "        print(f\"Drew shape: {st} with class ID {cls_id}\")\n",
    "        \n",
    "    return np.array(mask_img, dtype=np.uint8)"
   ]
  },
  {
   "cell_type": "code",
   "execution_count": null,
   "id": "f5f4c282",
   "metadata": {},
   "outputs": [],
   "source": [
    "data_dir = Path().cwd().parent / \"dataset\"\n",
    "if not data_dir.exists():\n",
    "    raise FileNotFoundError(f\"Data directory {data_dir} does not exist.\")\n",
    "\n",
    "images_dir = data_dir / \"images\"\n",
    "if not images_dir.exists():\n",
    "    raise FileNotFoundError(f\"Images directory {images_dir} does not exist.\")\n",
    "labels_dir = data_dir / \"labels\"\n",
    "if not labels_dir.exists():\n",
    "    raise FileNotFoundError(f\"Labels directory {labels_dir} does not exist.\")\n",
    "masks_dir = data_dir / \"masks\"\n",
    "if not masks_dir.exists():\n",
    "    raise FileNotFoundError(f\"Masks directory {masks_dir} does not exist.\")\n",
    "\n",
    "# images_dir.mkdir(exist_ok=True)\n",
    "# labels_dir.mkdir(exist_ok=True)\n",
    "# masks_dir.mkdir(exist_ok=True)\n",
    "\n",
    "print(f\"Data directory: {data_dir}\")\n",
    "print(f\"Images directory: {images_dir}\")\n",
    "print(f\"Labels directory: {labels_dir}\")"
   ]
  },
  {
   "cell_type": "code",
   "execution_count": null,
   "id": "69ba74ba",
   "metadata": {},
   "outputs": [],
   "source": [
    "all_labels = set()\n",
    "\n",
    "for jp in labels_dir.glob(\"*.json\"):\n",
    "    with open(jp, \"r\") as f:\n",
    "        anno = json.load(f)\n",
    "    for shape in anno.get(\"shapes\", []):\n",
    "        lbl = shape.get(\"label\", \"\")\n",
    "        all_labels.add(lbl)\n",
    "\n",
    "print(\"Found labels:\", all_labels)"
   ]
  },
  {
   "cell_type": "code",
   "execution_count": null,
   "id": "048fb2c6",
   "metadata": {},
   "outputs": [],
   "source": [
    "CLASS_MAP = {\"background\": 0, \"nerve\": 1}"
   ]
  },
  {
   "cell_type": "code",
   "execution_count": null,
   "id": "b362154d",
   "metadata": {},
   "outputs": [],
   "source": [
    "for jp in sorted(labels_dir.glob(\"*.json\"), key=lambda p: int(p.stem)):\n",
    "    with open(jp, \"r\") as f:\n",
    "        meta = json.load(f)\n",
    "    img_name = meta.get(\"imagePath\", jp.with_suffix(\".png\").name)\n",
    "    mask = labelme_json_to_mask(jp, images_dir, CLASS_MAP)\n",
    "    vis = (mask * 255).astype(np.uint8)\n",
    "    out = masks_dir / Path(img_name).name\n",
    "    Image.fromarray(vis).save(out)\n",
    "    # print(\"Saved:\", out)"
   ]
  },
  {
   "cell_type": "code",
   "execution_count": null,
   "id": "f7d7d49e",
   "metadata": {},
   "outputs": [],
   "source": [
    "img = Image.open(images_dir / img_name).convert(\"RGB\")\n",
    "mask = labelme_json_to_mask(labels_dir/ \"1.json\", images_dir, CLASS_MAP)\n",
    "\n",
    "alpha = 0.45\n",
    "rgb = np.array(img, np.float32)\n",
    "m = (mask > 0).astype(np.float32)[..., None]\n",
    "overlay = rgb*(1 - alpha*m) + np.array([255,0,0], np.float32)*alpha*m\n",
    "Image.fromarray(overlay.astype(np.uint8)).save(\"overlay.png\")"
   ]
  }
 ],
 "metadata": {
  "language_info": {
   "name": "python"
  }
 },
 "nbformat": 4,
 "nbformat_minor": 5
}
